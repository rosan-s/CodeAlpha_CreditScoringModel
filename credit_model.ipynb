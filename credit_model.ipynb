{
 "cells": [
  {
   "cell_type": "code",
   "execution_count": 9,
   "id": "984297bd-a52d-4053-8d11-ebf5082107ea",
   "metadata": {},
   "outputs": [
    {
     "name": "stdout",
     "output_type": "stream",
     "text": [
      "   Attribute_1  Attribute_2  Attribute_3  Attribute_4  Attribute_5  \\\n",
      "0            1            6            4           12            5   \n",
      "1            2           48            2           60            1   \n",
      "2            4           12            4           21            1   \n",
      "3            1           42            2           79            1   \n",
      "4            1           24            3           49            1   \n",
      "\n",
      "   Attribute_6  Attribute_7  Attribute_8  Attribute_9  Attribute_10  ...  \\\n",
      "0            5            3            4            1            67  ...   \n",
      "1            3            2            2            1            22  ...   \n",
      "2            4            3            3            1            49  ...   \n",
      "3            4            3            4            2            45  ...   \n",
      "4            3            3            4            4            53  ...   \n",
      "\n",
      "   Attribute_16  Attribute_17  Attribute_18  Attribute_19  Attribute_20  \\\n",
      "0             0             0             1             0             0   \n",
      "1             0             0             1             0             0   \n",
      "2             0             0             1             0             0   \n",
      "3             0             0             0             0             0   \n",
      "4             1             0             1             0             0   \n",
      "\n",
      "   Attribute_21  Attribute_22  Attribute_23  Attribute_24  Target  \n",
      "0             1             0             0             1       1  \n",
      "1             1             0             0             1       2  \n",
      "2             1             0             1             0       1  \n",
      "3             0             0             0             1       1  \n",
      "4             0             0             0             1       2  \n",
      "\n",
      "[5 rows x 25 columns]\n",
      "Target\n",
      "1    700\n",
      "2    300\n",
      "Name: count, dtype: int64\n"
     ]
    }
   ],
   "source": [
    "import pandas as pd\n",
    "\n",
    "# Define the column names\n",
    "column_names = [f'Attribute_{i}' for i in range(1, 25)] + ['Target']\n",
    "\n",
    "# Load the dataset using the full path (with raw string or escaped backslashes)\n",
    "df = pd.read_csv(r\"C:\\Users\\dhara\\Downloads\\statlog+german+credit+data\\german.data-numeric\", \n",
    "                 sep='\\s+', header=None, names=column_names)\n",
    "\n",
    "# Preview the data\n",
    "print(df.head())\n",
    "print(df['Target'].value_counts())\n"
   ]
  },
  {
   "cell_type": "code",
   "execution_count": 11,
   "id": "7cdd4947-b577-41f7-8f4b-91473e31183d",
   "metadata": {},
   "outputs": [],
   "source": [
    "df['Target'] = df['Target'].map({1: 1, 2: 0})\n"
   ]
  },
  {
   "cell_type": "code",
   "execution_count": 13,
   "id": "d38f666e-6377-49d1-a218-74c381691320",
   "metadata": {},
   "outputs": [],
   "source": [
    "from sklearn.model_selection import train_test_split\n",
    "from sklearn.preprocessing import StandardScaler\n",
    "\n",
    "# Separate features and labels\n",
    "X = df.drop('Target', axis=1)\n",
    "y = df['Target']\n",
    "\n",
    "# Standardize features\n",
    "scaler = StandardScaler()\n",
    "X_scaled = scaler.fit_transform(X)\n",
    "\n",
    "# Train-test split\n",
    "X_train, X_test, y_train, y_test = train_test_split(X_scaled, y, test_size=0.2, random_state=42)\n"
   ]
  },
  {
   "cell_type": "code",
   "execution_count": 15,
   "id": "08b3d5bf-58b1-4aa3-a195-d7c7f1c771b8",
   "metadata": {},
   "outputs": [],
   "source": [
    "from sklearn.linear_model import LogisticRegression\n",
    "from sklearn.ensemble import RandomForestClassifier\n",
    "from sklearn.metrics import classification_report, confusion_matrix, roc_auc_score\n",
    "\n",
    "# Logistic Regression\n",
    "lr = LogisticRegression()\n",
    "lr.fit(X_train, y_train)\n",
    "y_pred_lr = lr.predict(X_test)\n",
    "\n",
    "# Random Forest\n",
    "rf = RandomForestClassifier()\n",
    "rf.fit(X_train, y_train)\n",
    "y_pred_rf = rf.predict(X_test)\n"
   ]
  },
  {
   "cell_type": "code",
   "execution_count": 17,
   "id": "ab7604ba-fd8f-4502-9706-0c82d73a845f",
   "metadata": {},
   "outputs": [
    {
     "name": "stdout",
     "output_type": "stream",
     "text": [
      "Logistic Regression:\n",
      "               precision    recall  f1-score   support\n",
      "\n",
      "           0       0.65      0.51      0.57        59\n",
      "           1       0.81      0.89      0.85       141\n",
      "\n",
      "    accuracy                           0.78       200\n",
      "   macro avg       0.73      0.70      0.71       200\n",
      "weighted avg       0.76      0.78      0.77       200\n",
      "\n",
      "Random Forest:\n",
      "               precision    recall  f1-score   support\n",
      "\n",
      "           0       0.72      0.44      0.55        59\n",
      "           1       0.80      0.93      0.86       141\n",
      "\n",
      "    accuracy                           0.79       200\n",
      "   macro avg       0.76      0.68      0.70       200\n",
      "weighted avg       0.78      0.79      0.77       200\n",
      "\n",
      "ROC AUC (LR): 0.8012982329606924\n",
      "ROC AUC (RF): 0.8135593220338984\n"
     ]
    }
   ],
   "source": [
    "print(\"Logistic Regression:\\n\", classification_report(y_test, y_pred_lr))\n",
    "print(\"Random Forest:\\n\", classification_report(y_test, y_pred_rf))\n",
    "\n",
    "print(\"ROC AUC (LR):\", roc_auc_score(y_test, lr.predict_proba(X_test)[:, 1]))\n",
    "print(\"ROC AUC (RF):\", roc_auc_score(y_test, rf.predict_proba(X_test)[:, 1]))\n"
   ]
  },
  {
   "cell_type": "code",
   "execution_count": null,
   "id": "66eeb678-d0bf-49f4-a802-f6ea5c4c5a83",
   "metadata": {},
   "outputs": [],
   "source": []
  }
 ],
 "metadata": {
  "kernelspec": {
   "display_name": "Python 3 (ipykernel)",
   "language": "python",
   "name": "python3"
  },
  "language_info": {
   "codemirror_mode": {
    "name": "ipython",
    "version": 3
   },
   "file_extension": ".py",
   "mimetype": "text/x-python",
   "name": "python",
   "nbconvert_exporter": "python",
   "pygments_lexer": "ipython3",
   "version": "3.11.7"
  }
 },
 "nbformat": 4,
 "nbformat_minor": 5
}
